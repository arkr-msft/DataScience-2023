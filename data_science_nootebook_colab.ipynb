{
  "nbformat": 4,
  "nbformat_minor": 0,
  "metadata": {
    "colab": {
      "provenance": [],
      "authorship_tag": "ABX9TyM9jzNwwYDKl3Y+t+eP6EPz",
      "include_colab_link": true
    },
    "kernelspec": {
      "name": "python3",
      "display_name": "Python 3"
    },
    "language_info": {
      "name": "python"
    }
  },
  "cells": [
    {
      "cell_type": "markdown",
      "metadata": {
        "id": "view-in-github",
        "colab_type": "text"
      },
      "source": [
        "<a href=\"https://colab.research.google.com/github/arunkkumar1/DataScience-2023/blob/main/data_science_nootebook_colab.ipynb\" target=\"_parent\"><img src=\"https://colab.research.google.com/assets/colab-badge.svg\" alt=\"Open In Colab\"/></a>"
      ]
    },
    {
      "cell_type": "markdown",
      "source": [
        "## Ingest"
      ],
      "metadata": {
        "id": "iwrRK8cvy7n9"
      }
    },
    {
      "cell_type": "code",
      "source": [],
      "metadata": {
        "id": "lVkML5rqzQd6"
      },
      "execution_count": null,
      "outputs": []
    },
    {
      "cell_type": "markdown",
      "source": [
        "## EDA"
      ],
      "metadata": {
        "id": "OWB_2NIdy_io"
      }
    },
    {
      "cell_type": "code",
      "source": [],
      "metadata": {
        "id": "63aJSEh0zRJX"
      },
      "execution_count": null,
      "outputs": []
    },
    {
      "cell_type": "markdown",
      "source": [
        "## Modelling"
      ],
      "metadata": {
        "id": "S0BHE1CSzBgB"
      }
    },
    {
      "cell_type": "markdown",
      "source": [
        "### Classification Algorithm A ###"
      ],
      "metadata": {
        "id": "CRAz4Kw6zjhj"
      }
    },
    {
      "cell_type": "code",
      "source": [],
      "metadata": {
        "id": "9-tLEenizsWT"
      },
      "execution_count": null,
      "outputs": []
    },
    {
      "cell_type": "markdown",
      "source": [
        "### Classification Algorithm B ###"
      ],
      "metadata": {
        "id": "XvdlqTdqzntu"
      }
    },
    {
      "cell_type": "code",
      "source": [],
      "metadata": {
        "id": "yJCimISpztAN"
      },
      "execution_count": null,
      "outputs": []
    },
    {
      "cell_type": "code",
      "source": [],
      "metadata": {
        "id": "6OfgAgpszR3A"
      },
      "execution_count": null,
      "outputs": []
    },
    {
      "cell_type": "markdown",
      "source": [
        "## Conclusion"
      ],
      "metadata": {
        "id": "KEuj5vMqzDAU"
      }
    },
    {
      "cell_type": "code",
      "execution_count": null,
      "metadata": {
        "id": "IP7QAJsyy1Ho"
      },
      "outputs": [],
      "source": []
    }
  ]
}